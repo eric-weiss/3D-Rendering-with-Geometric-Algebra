{
 "cells": [
  {
   "cell_type": "code",
   "execution_count": 1,
   "metadata": {
    "id": "vCaDSS2QYg01"
   },
   "outputs": [],
   "source": [
    "from numpy import pi,e\n",
    "import numpy as np\n",
    "from matplotlib import pyplot as pp\n",
    "from cga import *\n",
    "import math"
   ]
  },
  {
   "cell_type": "markdown",
   "metadata": {
    "id": "eCy7Sxi_lDwe"
   },
   "source": [
    "'^' : wedge product\n",
    "\n",
    "'*' : geometric product\n",
    "\n",
    "'|' : scalar product\n",
    "\n",
    "'&' : contraction?"
   ]
  },
  {
   "cell_type": "markdown",
   "metadata": {
    "id": "Tlbmjc76Yg04"
   },
   "source": [
    "The conformal geometric algebra of $n$ dimensional space requires $n + 2$ basis vectors. We are starting from $3$ dimensional space so these two extra vectors are named $e_{4}$ and $e_{5}$. These vectors lack a simple geometric interpretation, but we can use them to create two additional basis elements, $n_{0}$ and $n_{i}$, that correspond to the origin and to the point at infinity, respectively."
   ]
  },
  {
   "cell_type": "code",
   "execution_count": 2,
   "metadata": {
    "id": "6748vD04Yg05"
   },
   "outputs": [],
   "source": [
    "no = (e4 + e5)*0.5\n",
    "ni = e5 - e4\n",
    "\n",
    "ni_arr = np.zeros((32))\n",
    "ni_arr[5] = 1.0; ni_arr[4] = -1.0\n",
    "ni_arr = R410.fromarray(ni_arr)\n",
    "no_arr = np.zeros((32))\n",
    "no_arr[5] = 0.5; no_arr[4] = 0.5\n",
    "no_arr = R410.fromarray(no_arr)"
   ]
  },
  {
   "cell_type": "markdown",
   "metadata": {
    "id": "NGR569vffewG"
   },
   "source": [
    "The standard way to encode a Euclidean point $\\mathbf{x} = xe_{1} + ye_{2} + ze_{3}$ in conformal coordinates is\n",
    "> $\\bf{x} \\to \\bf{x} + \\frac{1}{2}\\parallel\\bf{x}\\parallel^{2} n_{i} + n_{0}$\n",
    "\n",
    "Points constructed this way are also referred to as \"null points\" because they square to zero. Conveniently, the distance $d$ between any two null points $p_{1}$ and $p_{2}$ is related to their dot product as\n",
    ">$p_{1} \\cdot p_{2} = - \\frac{1}{2} d^{2}$ "
   ]
  },
  {
   "cell_type": "code",
   "execution_count": 3,
   "metadata": {
    "id": "e-PiknltYg07"
   },
   "outputs": [],
   "source": [
    "def normalize_null(P):\n",
    "    #normalizes null vectors by setting P|ni = -1\n",
    "    return P*(-1.0/(P|ni)[0])\n",
    "\n",
    "def null_point(r):\n",
    "  if isinstance(r, list):\n",
    "    out = no + (r[0]*e1) + (r[1]*e2) + (r[2]*e3) + (0.5*(r[0]**2+r[1]**2+r[2]**2)*ni)\n",
    "  elif r.ndim==1:\n",
    "    out = no + (r[0]*e1) + (r[1]*e2) + (r[2]*e3) + (0.5*(r[0]**2+r[1]**2+r[2]**2)*ni)\n",
    "  else:\n",
    "    out = np.zeros((32, r.shape[1]))\n",
    "    rads = np.sum(r**2, axis=0)*0.5\n",
    "    out[1] = r[0]; out[2] = r[1]; out[3] = r[2] # Euclidean terms\n",
    "    out[4] += 0.5; out[5] += 0.5  # n_0 terms\n",
    "    out[4] -= rads; out[5] += rads  # n_i terms\n",
    "    out = R410.fromarray(out)\n",
    "  out = normalize_null(out)\n",
    "  return out\n",
    "\n",
    "def G_inv(u):\n",
    "  #inverse of a multivector\n",
    "#   return (~u)*(1.0/(u|(~u))[0])\n",
    "  return (~u)*(1.0/(u|(R410.Conjugate(u)))[0])\n",
    "  # return (~u)*(1.0/(u.norm()**2))\n",
    "\n",
    "def split_point_pair(P):\n",
    "    denominator = 1.0/(np.sqrt(np.abs((P*~P)[0])))\n",
    "    denominator = denominator.reshape((1, denominator.shape[0]))\n",
    "    A = (-1. + P*denominator)*(P|ni) \n",
    "    # Note that B is equivalent to A but with ~P rather than P\n",
    "    # as P is a bivector ~P == -P\n",
    "#     B = (1. + P*denominator)*(P|ni) \n",
    "#     return normalize_null(A), normalize_null(B)\n",
    "    return normalize_null(A)"
   ]
  },
  {
   "cell_type": "markdown",
   "metadata": {
    "id": "QKiQ3GGRYg09"
   },
   "source": [
    "A sphere can either be constructed from four null points lying on its surface using the wedge (outer) product\n",
    "\n",
    ">$s=p_{1} \\wedge p_{2} \\wedge p_{3} \\wedge p_{4}$\n",
    "\n",
    "or from a null point representing its center and a scalar radius.\n",
    "\n",
    ">$s^* = p - \\frac{1}{2}r^2n_{i}$\n",
    "\n",
    "Note the presence of the duality operator $*$ in the second construction. Geometric primitives like the sphere have two different representations: direct and dual. The duality operator allows us to easily move between these representations since $s = (s^*)^*$.\n",
    "\n",
    "Assuming we are using the direct representation, determining whether a null point $p$ lies on the surface of a sphere $s$ involves checking whether the point is in its **outer product null space**:\n",
    ">$p \\wedge s = 0$\n",
    "\n",
    "Similarly, the surface of a dual sphere $s^*$ is defined by its **inner product null space**:\n",
    ">$p \\cdot s^* = 0$\n"
   ]
  },
  {
   "cell_type": "code",
   "execution_count": 4,
   "metadata": {
    "id": "JOQZuMfUc7aS"
   },
   "outputs": [],
   "source": [
    "def dual_sphere(center, radius):\n",
    "  #center is expected to be a plain Euclidean vector\n",
    "  return null_point(center) - (0.5*ni*radius**2)"
   ]
  },
  {
   "cell_type": "markdown",
   "metadata": {
    "id": "xODYzM5TYg0_"
   },
   "source": [
    "Creating a 2D grid of coordinates on the image plane:"
   ]
  },
  {
   "cell_type": "code",
   "execution_count": 5,
   "metadata": {
    "id": "M99sCvR4Yg0_"
   },
   "outputs": [],
   "source": [
    "aspect=[1.6,0.9]  # horizontal:vertical\n",
    "base_res = 512\n",
    "nx=int(aspect[0]*base_res)\n",
    "ny=int(aspect[1]*base_res)\n",
    "focal_length = 0.85\n",
    "X = np.linspace(-aspect[0]/aspect[1],aspect[0]/aspect[1],nx)\n",
    "Y = np.linspace(-1.0,1.0,ny)\n",
    "X, Y = np.meshgrid(X, Y); X+=np.random.randn(ny,nx)*5e-4; Y+=np.random.randn(ny,nx)*5e-4\n",
    "Z = np.zeros((ny,nx)) + focal_length\n",
    "R = np.stack((X, Y, Z)).T.reshape(nx*ny, 3).T"
   ]
  },
  {
   "cell_type": "markdown",
   "metadata": {
    "id": "LFc63QJFYg1B"
   },
   "source": [
    "Converting the euclidean coordinates to conformal points:"
   ]
  },
  {
   "cell_type": "code",
   "execution_count": 6,
   "metadata": {
    "id": "gJKUQSUCYg1C"
   },
   "outputs": [],
   "source": [
    "cga_points = normalize_null(null_point(R))"
   ]
  },
  {
   "cell_type": "markdown",
   "metadata": {
    "id": "2X72UzrVkEhm"
   },
   "source": [
    "Now we create lines passing through the origin and each of the points on the image plane. Following the same construction as the sphere, lines passing through the origin can be created like this:\n",
    ">$ L = n_{0} \\wedge p \\wedge n_{i}$\n",
    "\n",
    "Note that since the wedge product is non-commutative, these line objects (along with most objects in geometric algebra) are naturally endowed with an orientation."
   ]
  },
  {
   "cell_type": "code",
   "execution_count": 7,
   "metadata": {
    "colab": {
     "base_uri": "https://localhost:8080/",
     "height": 695
    },
    "id": "vQyTGU72Yg1G",
    "outputId": "6ea845e2-43dd-4f99-9553-99f97a5c50e5"
   },
   "outputs": [
    {
     "data": {
      "image/png": "[encoded data removed]",
      "text/plain": [
       "<Figure size 432x288 with 1 Axes>"
      ]
     },
     "metadata": {
      "needs_background": "light"
     },
     "output_type": "display_data"
    }
   ],
   "source": [
    "def display(pxl_vec):\n",
    "    pp.imshow(pxl_vec.reshape((nx,ny)).T[::-1], 'gray', vmin=0., vmax=1.)\n",
    "    pp.axis('off')\n",
    "    pp.savefig('render.png')\n",
    "    pp.show()\n",
    "\n",
    "# sphere_center = np.random.randn(3,1)*2.+np.array([[0.,0.,10.]]).T\n",
    "# sphere = dual_sphere(sphere_center, 1.0)\n",
    "\n",
    "# sphere_pairs = raster_lines&sphere\n",
    "# sphere_hits = ((sphere_pairs|sphere_pairs)[0]>0.)\n",
    "# sphere_points = split_point_pair(sphere_pairs)\n",
    "# sphere_dists = ((sphere_points|no)[0]).reshape(n, n).T[::-1]\n",
    "# sphere_normals = sphere_points[1:4] - sphere_center; sphere_normals/=np.sum(sphere_normals**2,axis=0, keepdims=True)\n",
    "\n",
    "\n",
    "\n",
    "\n",
    "def surface_map_planes(planes, camera_rays):\n",
    "    # For every line in camera_rays, calculate the closest point of intersection with a plane.\n",
    "    # This function expects to be provided with dual planes \n",
    "    #        - i.e., (n + d*no) or Dual(p1^p2^p3^ni)\n",
    "    # Returns 3D positions and normals for every point of intersection.\n",
    "    Z_out = 1.0e12*np.ones((camera_rays.mvec.shape[1]))\n",
    "    positions_out = np.zeros((3,camera_rays.mvec.shape[1]))\n",
    "    normals_out = np.zeros((3,camera_rays.mvec.shape[1]))\n",
    "    for plane in planes:\n",
    "        flats = plane|raster_lines\n",
    "        s_dual = no|flats\n",
    "        q = s_dual*ni*G_inv(s_dual)\n",
    "        nulls_normed = normalize_null(q)\n",
    "        dists = -0.5*((no|nulls_normed)[0])\n",
    "        plane_normal = plane.mvec[1:4]\n",
    "        points = nulls_normed.mvec[1:4]\n",
    "        new_Z = ((Z_out>dists)*(points[2]>0.)*1.0)>0.0\n",
    "        Z_out = np.where(new_Z, dists, Z_out)\n",
    "        positions_out = np.where(new_Z, points, positions_out)\n",
    "        normals_out = np.where(new_Z, plane_normal, normals_out)\n",
    "    \n",
    "    return positions_out, normals_out, Z_out\n",
    "\n",
    "ground = 1.0*e2 - 5.0*ni\n",
    "ceiling = -1.0*e2 - 5.0*ni\n",
    "back_wall = 1.0*e3 - 20.0*ni\n",
    "front_wall = -1.0*e3 - 20.0*ni\n",
    "right_wall = -1.0*e1 - 20.0*ni\n",
    "left_wall = 1.0*e1 - 20.0*ni\n",
    "\n",
    "\n",
    "r_h = float(np.cos(0.1)) + (e13)*float(-np.sin(0.1))\n",
    "r_v = float(np.cos(0.05)) + (e23)*float(-np.sin(0.05))\n",
    "\n",
    "\n",
    "camera_points = r_v*r_h*(cga_points)*G_inv(r_h)*G_inv(r_v)\n",
    "\n",
    "raster_lines = no^camera_points^ni\n",
    "\n",
    "planes = [ground, back_wall, front_wall, right_wall, left_wall, ceiling]\n",
    "visible_points, visible_normals, Z_map = surface_map_planes(planes, raster_lines)\n",
    "\n",
    "display(1.0/Z_map)\n"
   ]
  },
  {
   "cell_type": "code",
   "execution_count": 8,
   "metadata": {},
   "outputs": [
    {
     "data": {
      "image/png": "[encoded data removed]",
      "text/plain": [
       "<Figure size 432x288 with 1 Axes>"
      ]
     },
     "metadata": {
      "needs_background": "light"
     },
     "output_type": "display_data"
    }
   ],
   "source": [
    "point_light = np.asarray([[3., 6., 3.]]).T\n",
    "ambient = -1.5\n",
    "\n",
    "light_dirs = visible_points-point_light\n",
    "light_dists = np.sqrt(np.sum(light_dirs**2, axis=0, keepdims=True))\n",
    "light_dirs /= light_dists\n",
    "diffuse = 15.*(-np.sum((light_dirs*visible_normals), axis=0)/(light_dists**1))\n",
    "total = 0.5*np.tanh((diffuse>0.)*diffuse + ambient)+0.5\n",
    "display(total)"
   ]
  },
  {
   "cell_type": "code",
   "execution_count": null,
   "metadata": {},
   "outputs": [],
   "source": []
  }
 ],
 "metadata": {
  "colab": {
   "collapsed_sections": [],
   "name": "tests.ipynb",
   "provenance": []
  },
  "kernelspec": {
   "display_name": "Python 3",
   "language": "python",
   "name": "python3"
  },
  "language_info": {
   "codemirror_mode": {
    "name": "ipython",
    "version": 3
   },
   "file_extension": ".py",
   "mimetype": "text/x-python",
   "name": "python",
   "nbconvert_exporter": "python",
   "pygments_lexer": "ipython3",
   "version": "3.6.9"
  }
 },
 "nbformat": 4,
 "nbformat_minor": 4
}
