{
  "nbformat": 4,
  "nbformat_minor": 0,
  "metadata": {
    "kernelspec": {
      "display_name": "Python 3",
      "language": "python",
      "name": "python3"
    },
    "language_info": {
      "codemirror_mode": {
        "name": "ipython",
        "version": 3
      },
      "file_extension": ".py",
      "mimetype": "text/x-python",
      "name": "python",
      "nbconvert_exporter": "python",
      "pygments_lexer": "ipython3",
      "version": "3.6.9"
    },
    "colab": {
      "name": "tests.ipynb",
      "provenance": [],
      "include_colab_link": true
    }
  },
  "cells": [
    {
      "cell_type": "markdown",
      "metadata": {
        "id": "view-in-github",
        "colab_type": "text"
      },
      "source": [
        "<a href=\"https://colab.research.google.com/github/eric-weiss/3D-Rendering-with-Geometric-Algebra/blob/main/tests.ipynb\" target=\"_parent\"><img src=\"https://colab.research.google.com/assets/colab-badge.svg\" alt=\"Open In Colab\"/></a>"
      ]
    },
    {
      "cell_type": "code",
      "metadata": {
        "id": "vCaDSS2QYg01",
        "outputId": "48682cdb-2a9a-48d2-f46a-f4dd05eb5ab3",
        "colab": {
          "base_uri": "https://localhost:8080/",
          "height": 356
        }
      },
      "source": [
        "from numpy import pi,e\n",
        "import numpy as np\n",
        "from matplotlib import pyplot as pp\n",
        "from cga import *\n",
        "import math"
      ],
      "execution_count": 1,
      "outputs": [
        {
          "output_type": "error",
          "ename": "ModuleNotFoundError",
          "evalue": "ignored",
          "traceback": [
            "\u001b[0;31m---------------------------------------------------------------------------\u001b[0m",
            "\u001b[0;31mModuleNotFoundError\u001b[0m                       Traceback (most recent call last)",
            "\u001b[0;32m<ipython-input-1-d08ed0ffd7ef>\u001b[0m in \u001b[0;36m<module>\u001b[0;34m()\u001b[0m\n\u001b[1;32m      2\u001b[0m \u001b[0;32mimport\u001b[0m \u001b[0mnumpy\u001b[0m \u001b[0;32mas\u001b[0m \u001b[0mnp\u001b[0m\u001b[0;34m\u001b[0m\u001b[0;34m\u001b[0m\u001b[0m\n\u001b[1;32m      3\u001b[0m \u001b[0;32mfrom\u001b[0m \u001b[0mmatplotlib\u001b[0m \u001b[0;32mimport\u001b[0m \u001b[0mpyplot\u001b[0m \u001b[0;32mas\u001b[0m \u001b[0mpp\u001b[0m\u001b[0;34m\u001b[0m\u001b[0;34m\u001b[0m\u001b[0m\n\u001b[0;32m----> 4\u001b[0;31m \u001b[0;32mfrom\u001b[0m \u001b[0mcga\u001b[0m \u001b[0;32mimport\u001b[0m \u001b[0;34m*\u001b[0m\u001b[0;34m\u001b[0m\u001b[0;34m\u001b[0m\u001b[0m\n\u001b[0m\u001b[1;32m      5\u001b[0m \u001b[0;32mimport\u001b[0m \u001b[0mmath\u001b[0m\u001b[0;34m\u001b[0m\u001b[0;34m\u001b[0m\u001b[0m\n",
            "\u001b[0;31mModuleNotFoundError\u001b[0m: No module named 'cga'",
            "",
            "\u001b[0;31m---------------------------------------------------------------------------\u001b[0;32m\nNOTE: If your import is failing due to a missing package, you can\nmanually install dependencies using either !pip or !apt.\n\nTo view examples of installing some common dependencies, click the\n\"Open Examples\" button below.\n\u001b[0;31m---------------------------------------------------------------------------\u001b[0m\n"
          ]
        }
      ]
    },
    {
      "cell_type": "markdown",
      "metadata": {
        "id": "Tlbmjc76Yg04"
      },
      "source": [
        "The conformal geometric algebra of n dimensional space requires n + 2 basis vectors. We are starting from 3 dimensional space so these two extra vectors are named e4 and e5. These vectors lack a simple geometric interpretation, but we can use them to create two additional basis elements, no and ni, that correspond to the origin and to the point at infinity, respectively."
      ]
    },
    {
      "cell_type": "code",
      "metadata": {
        "id": "6748vD04Yg05"
      },
      "source": [
        "no = (e4 + e5)*0.5\n",
        "ni = e5 - e4"
      ],
      "execution_count": null,
      "outputs": []
    },
    {
      "cell_type": "code",
      "metadata": {
        "id": "e-PiknltYg07"
      },
      "source": [
        "def conformal_point(r):\n",
        "    return no + r[0]*e1 + r[1]*e2 + r[2]*e3 + 0.5*(r[0]**2+r[1]**2+r[2]**2)*ni"
      ],
      "execution_count": null,
      "outputs": []
    },
    {
      "cell_type": "markdown",
      "metadata": {
        "id": "QKiQ3GGRYg09"
      },
      "source": [
        "Building a sphere from 4 points:"
      ]
    },
    {
      "cell_type": "code",
      "metadata": {
        "id": "x-CoJvFuYg09"
      },
      "source": [
        "p1=conformal_point([1,0,0])\n",
        "p2=conformal_point([0,1,0])\n",
        "p3=conformal_point([-1,0,0])\n",
        "p4=conformal_point([0,0,1])\n",
        "s=p1^p2^p3^p4"
      ],
      "execution_count": null,
      "outputs": []
    },
    {
      "cell_type": "markdown",
      "metadata": {
        "id": "xODYzM5TYg0_"
      },
      "source": [
        "Creating a 2D grid of coordinates on the image plane:"
      ]
    },
    {
      "cell_type": "code",
      "metadata": {
        "id": "M99sCvR4Yg0_"
      },
      "source": [
        "n=64\n",
        "focal_length = 1.0\n",
        "X = np.linspace(-.5,0.5,n)\n",
        "X, Y = np.meshgrid(X, X)\n",
        "Z = np.zeros((n,n)) + focal_length\n",
        "R = np.stack((X, Y, Z)).T.reshape(n*n, 3).tolist()"
      ],
      "execution_count": null,
      "outputs": []
    },
    {
      "cell_type": "markdown",
      "metadata": {
        "id": "LFc63QJFYg1B"
      },
      "source": [
        "Converting the euclidean coordinates to conformal points:"
      ]
    },
    {
      "cell_type": "code",
      "metadata": {
        "id": "gJKUQSUCYg1C"
      },
      "source": [
        "cga_points = list(map(conformal_point, R))"
      ],
      "execution_count": null,
      "outputs": []
    },
    {
      "cell_type": "code",
      "metadata": {
        "id": "llppC1skYg1E"
      },
      "source": [
        ""
      ],
      "execution_count": null,
      "outputs": []
    },
    {
      "cell_type": "code",
      "metadata": {
        "id": "vQyTGU72Yg1G",
        "outputId": "a5a1e609-2a1c-4bc3-e154-a4bf77c897a8"
      },
      "source": [
        "vals = np.array([(c^point).norm() for point in cga_points])\n",
        "vals=vals.reshape(n, n)\n",
        "pp.imshow(vals)\n",
        "pp.show()"
      ],
      "execution_count": null,
      "outputs": [
        {
          "output_type": "display_data",
          "data": {
            "image/png": "[encoded data removed]",
            "text/plain": [
              "<Figure size 432x288 with 1 Axes>"
            ]
          },
          "metadata": {
            "tags": [],
            "needs_background": "light"
          }
        }
      ]
    },
    {
      "cell_type": "code",
      "metadata": {
        "id": "blnXcwxeYg1I"
      },
      "source": [
        ""
      ],
      "execution_count": null,
      "outputs": []
    }
  ]
}